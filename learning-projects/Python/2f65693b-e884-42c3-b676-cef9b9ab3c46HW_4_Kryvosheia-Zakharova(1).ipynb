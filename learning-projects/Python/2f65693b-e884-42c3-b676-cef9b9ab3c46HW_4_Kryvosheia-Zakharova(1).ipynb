{
 "cells": [
  {
   "cell_type": "code",
   "execution_count": 1,
   "id": "a1decaa3",
   "metadata": {},
   "outputs": [],
   "source": [
    "import pandas as pd\n",
    "import numpy as np"
   ]
  },
  {
   "cell_type": "code",
   "execution_count": 6,
   "id": "01d66019",
   "metadata": {},
   "outputs": [],
   "source": [
    "survey1 = pd.read_csv('/Users/kryvoshei/Downloads/survey_results_public.csv', on_bad_lines='skip')\n",
    "survey2 = pd.read_csv('/Users/kryvoshei/Downloads/survey_results_schema.csv', on_bad_lines='skip')"
   ]
  },
  {
   "cell_type": "code",
   "execution_count": 79,
   "id": "078d7a89",
   "metadata": {
    "scrolled": true
   },
   "outputs": [
    {
     "data": {
      "text/html": [
       "<div>\n",
       "<style scoped>\n",
       "    .dataframe tbody tr th:only-of-type {\n",
       "        vertical-align: middle;\n",
       "    }\n",
       "\n",
       "    .dataframe tbody tr th {\n",
       "        vertical-align: top;\n",
       "    }\n",
       "\n",
       "    .dataframe thead th {\n",
       "        text-align: right;\n",
       "    }\n",
       "</style>\n",
       "<table border=\"1\" class=\"dataframe\">\n",
       "  <thead>\n",
       "    <tr style=\"text-align: right;\">\n",
       "      <th></th>\n",
       "      <th>ResponseId</th>\n",
       "      <th>Q120</th>\n",
       "      <th>MainBranch</th>\n",
       "      <th>Age</th>\n",
       "      <th>Employment</th>\n",
       "      <th>RemoteWork</th>\n",
       "      <th>CodingActivities</th>\n",
       "      <th>EdLevel</th>\n",
       "      <th>LearnCode</th>\n",
       "      <th>LearnCodeOnline</th>\n",
       "      <th>...</th>\n",
       "      <th>Frequency_2</th>\n",
       "      <th>Frequency_3</th>\n",
       "      <th>TimeSearching</th>\n",
       "      <th>TimeAnswering</th>\n",
       "      <th>ProfessionalTech</th>\n",
       "      <th>Industry</th>\n",
       "      <th>SurveyLength</th>\n",
       "      <th>SurveyEase</th>\n",
       "      <th>ConvertedCompYearly</th>\n",
       "      <th>answered_questions</th>\n",
       "    </tr>\n",
       "  </thead>\n",
       "  <tbody>\n",
       "    <tr>\n",
       "      <th>0</th>\n",
       "      <td>1</td>\n",
       "      <td>I agree</td>\n",
       "      <td>None of these</td>\n",
       "      <td>18-24 years old</td>\n",
       "      <td>NaN</td>\n",
       "      <td>NaN</td>\n",
       "      <td>NaN</td>\n",
       "      <td>NaN</td>\n",
       "      <td>NaN</td>\n",
       "      <td>NaN</td>\n",
       "      <td>...</td>\n",
       "      <td>NaN</td>\n",
       "      <td>NaN</td>\n",
       "      <td>NaN</td>\n",
       "      <td>NaN</td>\n",
       "      <td>NaN</td>\n",
       "      <td>NaN</td>\n",
       "      <td>NaN</td>\n",
       "      <td>NaN</td>\n",
       "      <td>NaN</td>\n",
       "      <td>4</td>\n",
       "    </tr>\n",
       "    <tr>\n",
       "      <th>1</th>\n",
       "      <td>2</td>\n",
       "      <td>I agree</td>\n",
       "      <td>I am a developer by profession</td>\n",
       "      <td>25-34 years old</td>\n",
       "      <td>Employed, full-time</td>\n",
       "      <td>Remote</td>\n",
       "      <td>Hobby;Contribute to open-source projects;Boots...</td>\n",
       "      <td>Bachelor’s degree (B.A., B.S., B.Eng., etc.)</td>\n",
       "      <td>Books / Physical media;Colleague;Friend or fam...</td>\n",
       "      <td>Formal documentation provided by the owner of ...</td>\n",
       "      <td>...</td>\n",
       "      <td>10+ times a week</td>\n",
       "      <td>Never</td>\n",
       "      <td>15-30 minutes a day</td>\n",
       "      <td>15-30 minutes a day</td>\n",
       "      <td>DevOps function;Microservices;Automated testin...</td>\n",
       "      <td>Information Services, IT, Software Development...</td>\n",
       "      <td>Appropriate in length</td>\n",
       "      <td>Easy</td>\n",
       "      <td>285000.0</td>\n",
       "      <td>78</td>\n",
       "    </tr>\n",
       "    <tr>\n",
       "      <th>2</th>\n",
       "      <td>3</td>\n",
       "      <td>I agree</td>\n",
       "      <td>I am a developer by profession</td>\n",
       "      <td>45-54 years old</td>\n",
       "      <td>Employed, full-time</td>\n",
       "      <td>Hybrid (some remote, some in-person)</td>\n",
       "      <td>Hobby;Professional development or self-paced l...</td>\n",
       "      <td>Bachelor’s degree (B.A., B.S., B.Eng., etc.)</td>\n",
       "      <td>Books / Physical media;Colleague;On the job tr...</td>\n",
       "      <td>Formal documentation provided by the owner of ...</td>\n",
       "      <td>...</td>\n",
       "      <td>6-10 times a week</td>\n",
       "      <td>3-5 times a week</td>\n",
       "      <td>30-60 minutes a day</td>\n",
       "      <td>30-60 minutes a day</td>\n",
       "      <td>DevOps function;Microservices;Automated testin...</td>\n",
       "      <td>Information Services, IT, Software Development...</td>\n",
       "      <td>Appropriate in length</td>\n",
       "      <td>Easy</td>\n",
       "      <td>250000.0</td>\n",
       "      <td>60</td>\n",
       "    </tr>\n",
       "    <tr>\n",
       "      <th>3</th>\n",
       "      <td>4</td>\n",
       "      <td>I agree</td>\n",
       "      <td>I am a developer by profession</td>\n",
       "      <td>25-34 years old</td>\n",
       "      <td>Employed, full-time</td>\n",
       "      <td>Hybrid (some remote, some in-person)</td>\n",
       "      <td>Hobby</td>\n",
       "      <td>Bachelor’s degree (B.A., B.S., B.Eng., etc.)</td>\n",
       "      <td>Colleague;Friend or family member;Other online...</td>\n",
       "      <td>Formal documentation provided by the owner of ...</td>\n",
       "      <td>...</td>\n",
       "      <td>10+ times a week</td>\n",
       "      <td>1-2 times a week</td>\n",
       "      <td>15-30 minutes a day</td>\n",
       "      <td>30-60 minutes a day</td>\n",
       "      <td>Automated testing;Continuous integration (CI) ...</td>\n",
       "      <td>NaN</td>\n",
       "      <td>Appropriate in length</td>\n",
       "      <td>Easy</td>\n",
       "      <td>156000.0</td>\n",
       "      <td>65</td>\n",
       "    </tr>\n",
       "    <tr>\n",
       "      <th>4</th>\n",
       "      <td>5</td>\n",
       "      <td>I agree</td>\n",
       "      <td>I am a developer by profession</td>\n",
       "      <td>25-34 years old</td>\n",
       "      <td>Employed, full-time;Independent contractor, fr...</td>\n",
       "      <td>Remote</td>\n",
       "      <td>Hobby;Contribute to open-source projects;Profe...</td>\n",
       "      <td>Bachelor’s degree (B.A., B.S., B.Eng., etc.)</td>\n",
       "      <td>Books / Physical media;Online Courses or Certi...</td>\n",
       "      <td>Formal documentation provided by the owner of ...</td>\n",
       "      <td>...</td>\n",
       "      <td>1-2 times a week</td>\n",
       "      <td>3-5 times a week</td>\n",
       "      <td>60-120 minutes a day</td>\n",
       "      <td>30-60 minutes a day</td>\n",
       "      <td>Microservices;Automated testing;Observability ...</td>\n",
       "      <td>Other</td>\n",
       "      <td>Appropriate in length</td>\n",
       "      <td>Neither easy nor difficult</td>\n",
       "      <td>23456.0</td>\n",
       "      <td>73</td>\n",
       "    </tr>\n",
       "  </tbody>\n",
       "</table>\n",
       "<p>5 rows × 85 columns</p>\n",
       "</div>"
      ],
      "text/plain": [
       "   ResponseId     Q120                      MainBranch              Age  \\\n",
       "0           1  I agree                   None of these  18-24 years old   \n",
       "1           2  I agree  I am a developer by profession  25-34 years old   \n",
       "2           3  I agree  I am a developer by profession  45-54 years old   \n",
       "3           4  I agree  I am a developer by profession  25-34 years old   \n",
       "4           5  I agree  I am a developer by profession  25-34 years old   \n",
       "\n",
       "                                          Employment  \\\n",
       "0                                                NaN   \n",
       "1                                Employed, full-time   \n",
       "2                                Employed, full-time   \n",
       "3                                Employed, full-time   \n",
       "4  Employed, full-time;Independent contractor, fr...   \n",
       "\n",
       "                             RemoteWork  \\\n",
       "0                                   NaN   \n",
       "1                                Remote   \n",
       "2  Hybrid (some remote, some in-person)   \n",
       "3  Hybrid (some remote, some in-person)   \n",
       "4                                Remote   \n",
       "\n",
       "                                    CodingActivities  \\\n",
       "0                                                NaN   \n",
       "1  Hobby;Contribute to open-source projects;Boots...   \n",
       "2  Hobby;Professional development or self-paced l...   \n",
       "3                                              Hobby   \n",
       "4  Hobby;Contribute to open-source projects;Profe...   \n",
       "\n",
       "                                        EdLevel  \\\n",
       "0                                           NaN   \n",
       "1  Bachelor’s degree (B.A., B.S., B.Eng., etc.)   \n",
       "2  Bachelor’s degree (B.A., B.S., B.Eng., etc.)   \n",
       "3  Bachelor’s degree (B.A., B.S., B.Eng., etc.)   \n",
       "4  Bachelor’s degree (B.A., B.S., B.Eng., etc.)   \n",
       "\n",
       "                                           LearnCode  \\\n",
       "0                                                NaN   \n",
       "1  Books / Physical media;Colleague;Friend or fam...   \n",
       "2  Books / Physical media;Colleague;On the job tr...   \n",
       "3  Colleague;Friend or family member;Other online...   \n",
       "4  Books / Physical media;Online Courses or Certi...   \n",
       "\n",
       "                                     LearnCodeOnline  ...        Frequency_2  \\\n",
       "0                                                NaN  ...                NaN   \n",
       "1  Formal documentation provided by the owner of ...  ...   10+ times a week   \n",
       "2  Formal documentation provided by the owner of ...  ...  6-10 times a week   \n",
       "3  Formal documentation provided by the owner of ...  ...   10+ times a week   \n",
       "4  Formal documentation provided by the owner of ...  ...   1-2 times a week   \n",
       "\n",
       "        Frequency_3         TimeSearching        TimeAnswering  \\\n",
       "0               NaN                   NaN                  NaN   \n",
       "1             Never   15-30 minutes a day  15-30 minutes a day   \n",
       "2  3-5 times a week   30-60 minutes a day  30-60 minutes a day   \n",
       "3  1-2 times a week   15-30 minutes a day  30-60 minutes a day   \n",
       "4  3-5 times a week  60-120 minutes a day  30-60 minutes a day   \n",
       "\n",
       "                                    ProfessionalTech  \\\n",
       "0                                                NaN   \n",
       "1  DevOps function;Microservices;Automated testin...   \n",
       "2  DevOps function;Microservices;Automated testin...   \n",
       "3  Automated testing;Continuous integration (CI) ...   \n",
       "4  Microservices;Automated testing;Observability ...   \n",
       "\n",
       "                                            Industry           SurveyLength  \\\n",
       "0                                                NaN                    NaN   \n",
       "1  Information Services, IT, Software Development...  Appropriate in length   \n",
       "2  Information Services, IT, Software Development...  Appropriate in length   \n",
       "3                                                NaN  Appropriate in length   \n",
       "4                                              Other  Appropriate in length   \n",
       "\n",
       "                   SurveyEase ConvertedCompYearly answered_questions  \n",
       "0                         NaN                 NaN                  4  \n",
       "1                        Easy            285000.0                 78  \n",
       "2                        Easy            250000.0                 60  \n",
       "3                        Easy            156000.0                 65  \n",
       "4  Neither easy nor difficult             23456.0                 73  \n",
       "\n",
       "[5 rows x 85 columns]"
      ]
     },
     "execution_count": 79,
     "metadata": {},
     "output_type": "execute_result"
    }
   ],
   "source": [
    "survey1.head()"
   ]
  },
  {
   "cell_type": "code",
   "execution_count": 8,
   "id": "9119a5be",
   "metadata": {
    "collapsed": true
   },
   "outputs": [
    {
     "data": {
      "text/html": [
       "<div>\n",
       "<style scoped>\n",
       "    .dataframe tbody tr th:only-of-type {\n",
       "        vertical-align: middle;\n",
       "    }\n",
       "\n",
       "    .dataframe tbody tr th {\n",
       "        vertical-align: top;\n",
       "    }\n",
       "\n",
       "    .dataframe thead th {\n",
       "        text-align: right;\n",
       "    }\n",
       "</style>\n",
       "<table border=\"1\" class=\"dataframe\">\n",
       "  <thead>\n",
       "    <tr style=\"text-align: right;\">\n",
       "      <th></th>\n",
       "      <th>qid</th>\n",
       "      <th>qname</th>\n",
       "      <th>question</th>\n",
       "      <th>force_resp</th>\n",
       "      <th>type</th>\n",
       "      <th>selector</th>\n",
       "    </tr>\n",
       "  </thead>\n",
       "  <tbody>\n",
       "    <tr>\n",
       "      <th>0</th>\n",
       "      <td>QID16</td>\n",
       "      <td>S0</td>\n",
       "      <td>&lt;div&gt;&lt;span style=\"font-size:19px;\"&gt;&lt;strong&gt;Hel...</td>\n",
       "      <td>False</td>\n",
       "      <td>DB</td>\n",
       "      <td>TB</td>\n",
       "    </tr>\n",
       "    <tr>\n",
       "      <th>1</th>\n",
       "      <td>QID12</td>\n",
       "      <td>MetaInfo</td>\n",
       "      <td>Browser Meta Info</td>\n",
       "      <td>False</td>\n",
       "      <td>Meta</td>\n",
       "      <td>Browser</td>\n",
       "    </tr>\n",
       "    <tr>\n",
       "      <th>2</th>\n",
       "      <td>QID310</td>\n",
       "      <td>Q310</td>\n",
       "      <td>&lt;div&gt;&lt;span style=\"font-size:19px;\"&gt;&lt;strong&gt;You...</td>\n",
       "      <td>False</td>\n",
       "      <td>DB</td>\n",
       "      <td>TB</td>\n",
       "    </tr>\n",
       "    <tr>\n",
       "      <th>3</th>\n",
       "      <td>QID312</td>\n",
       "      <td>Q120</td>\n",
       "      <td></td>\n",
       "      <td>True</td>\n",
       "      <td>MC</td>\n",
       "      <td>SAVR</td>\n",
       "    </tr>\n",
       "    <tr>\n",
       "      <th>4</th>\n",
       "      <td>QID1</td>\n",
       "      <td>S1</td>\n",
       "      <td>&lt;span style=\"font-size:22px; font-family: aria...</td>\n",
       "      <td>False</td>\n",
       "      <td>DB</td>\n",
       "      <td>TB</td>\n",
       "    </tr>\n",
       "  </tbody>\n",
       "</table>\n",
       "</div>"
      ],
      "text/plain": [
       "      qid     qname                                           question  \\\n",
       "0   QID16        S0  <div><span style=\"font-size:19px;\"><strong>Hel...   \n",
       "1   QID12  MetaInfo                                  Browser Meta Info   \n",
       "2  QID310      Q310  <div><span style=\"font-size:19px;\"><strong>You...   \n",
       "3  QID312      Q120                                                      \n",
       "4    QID1        S1  <span style=\"font-size:22px; font-family: aria...   \n",
       "\n",
       "  force_resp  type selector  \n",
       "0      False    DB       TB  \n",
       "1      False  Meta  Browser  \n",
       "2      False    DB       TB  \n",
       "3       True    MC     SAVR  \n",
       "4      False    DB       TB  "
      ]
     },
     "execution_count": 8,
     "metadata": {},
     "output_type": "execute_result"
    }
   ],
   "source": [
    "survey2.head()"
   ]
  },
  {
   "cell_type": "markdown",
   "id": "5cbf88e5",
   "metadata": {
    "raw_mimetype": "text/markdown"
   },
   "source": [
    "1. Скільки респондентів пройшли опитування? (89184)"
   ]
  },
  {
   "cell_type": "code",
   "execution_count": 24,
   "id": "6420cbe8",
   "metadata": {},
   "outputs": [],
   "source": [
    "total_respondents = len(survey1)"
   ]
  },
  {
   "cell_type": "code",
   "execution_count": 25,
   "id": "3136794c",
   "metadata": {},
   "outputs": [
    {
     "data": {
      "text/plain": [
       "89184"
      ]
     },
     "execution_count": 25,
     "metadata": {},
     "output_type": "execute_result"
    }
   ],
   "source": [
    "total_respondents"
   ]
  },
  {
   "cell_type": "markdown",
   "id": "64708fe6",
   "metadata": {
    "raw_mimetype": "text/markdown"
   },
   "source": [
    "2. Скільки респондентів відповіли на всі запитання? (2032)"
   ]
  },
  {
   "cell_type": "code",
   "execution_count": 48,
   "id": "11b099f6",
   "metadata": {},
   "outputs": [
    {
     "data": {
      "text/plain": [
       "2032"
      ]
     },
     "execution_count": 48,
     "metadata": {},
     "output_type": "execute_result"
    }
   ],
   "source": [
    "total_questions = set(survey2['qname'].unique()) & set(survey1.columns)\n",
    "tq = survey1.dropna(subset=total_questions)\n",
    "tq.shape[0]"
   ]
  },
  {
   "cell_type": "markdown",
   "id": "d84eeb89",
   "metadata": {
    "raw_mimetype": "text/markdown"
   },
   "source": [
    "3. Які значення мір центральної тенденції для досвіду (WorkExp) респондентів?"
   ]
  },
  {
   "cell_type": "code",
   "execution_count": 50,
   "id": "35ae0c4a",
   "metadata": {},
   "outputs": [
    {
     "data": {
      "text/plain": [
       "11.405126322311204"
      ]
     },
     "execution_count": 50,
     "metadata": {},
     "output_type": "execute_result"
    }
   ],
   "source": [
    "mean_work_exp = survey1['WorkExp'].mean()\n",
    "mean_work_exp"
   ]
  },
  {
   "cell_type": "code",
   "execution_count": 51,
   "id": "71275589",
   "metadata": {},
   "outputs": [
    {
     "data": {
      "text/plain": [
       "9.0"
      ]
     },
     "execution_count": 51,
     "metadata": {},
     "output_type": "execute_result"
    }
   ],
   "source": [
    "median_work_exp = survey1['WorkExp'].median()\n",
    "median_work_exp"
   ]
  },
  {
   "cell_type": "code",
   "execution_count": 52,
   "id": "0538cdfe",
   "metadata": {},
   "outputs": [
    {
     "data": {
      "text/plain": [
       "0    5.0\n",
       "Name: WorkExp, dtype: float64"
      ]
     },
     "execution_count": 52,
     "metadata": {},
     "output_type": "execute_result"
    }
   ],
   "source": [
    "mode_work_exp = survey1['WorkExp'].mode()\n",
    "mode_work_exp"
   ]
  },
  {
   "cell_type": "markdown",
   "id": "d9100ab2",
   "metadata": {
    "raw_mimetype": "text/markdown"
   },
   "source": [
    "4. Скільки респондентів працює віддалено? (30566)"
   ]
  },
  {
   "cell_type": "code",
   "execution_count": 53,
   "id": "57c4f021",
   "metadata": {},
   "outputs": [
    {
     "data": {
      "text/plain": [
       "RemoteWork\n",
       "Hybrid (some remote, some in-person)    31131\n",
       "In-person                               12113\n",
       "Remote                                  30566\n",
       "Name: ResponseId, dtype: int64"
      ]
     },
     "execution_count": 53,
     "metadata": {},
     "output_type": "execute_result"
    }
   ],
   "source": [
    "test = survey1.groupby('RemoteWork')['ResponseId'].count()\n",
    "test"
   ]
  },
  {
   "cell_type": "markdown",
   "id": "3d3dbc1c",
   "metadata": {},
   "source": [
    "5. Який відсоток респондентів програмує на Python? (48.4%)"
   ]
  },
  {
   "cell_type": "code",
   "execution_count": 67,
   "id": "a609302c",
   "metadata": {},
   "outputs": [
    {
     "data": {
      "text/plain": [
       "48.392088266953714"
      ]
     },
     "execution_count": 67,
     "metadata": {},
     "output_type": "execute_result"
    }
   ],
   "source": [
    "python_users = survey1['LanguageHaveWorkedWith'].str.contains('Python', na=False).sum()\n",
    "total_respondents = len(survey1)\n",
    "python_users_percentage = (python_users_count / total_respondents) * 100\n",
    "python_users_percentage"
   ]
  },
  {
   "cell_type": "markdown",
   "id": "8c040d87",
   "metadata": {},
   "source": [
    "6. Скільки респондентів навчалося програмувати за допомогою онлайн курсів? (43201)"
   ]
  },
  {
   "cell_type": "code",
   "execution_count": 72,
   "id": "373bf9ec",
   "metadata": {},
   "outputs": [
    {
     "data": {
      "text/plain": [
       "43201"
      ]
     },
     "execution_count": 72,
     "metadata": {},
     "output_type": "execute_result"
    }
   ],
   "source": [
    "respondent_online_courses = survey1['LearnCode'].str.contains('Online Courses', na=False).sum()\n",
    "respondent_online_courses"
   ]
  },
  {
   "cell_type": "markdown",
   "id": "7613b211",
   "metadata": {},
   "source": [
    "7. Серед респондентів що програмують на Python в групуванні по країнам, яка середня та медіанна сума компенсації (ConvertedCompYearly) в кожній країні?"
   ]
  },
  {
   "cell_type": "code",
   "execution_count": 77,
   "id": "ef4a77ec",
   "metadata": {
    "scrolled": false
   },
   "outputs": [
    {
     "data": {
      "text/html": [
       "<div>\n",
       "<style scoped>\n",
       "    .dataframe tbody tr th:only-of-type {\n",
       "        vertical-align: middle;\n",
       "    }\n",
       "\n",
       "    .dataframe tbody tr th {\n",
       "        vertical-align: top;\n",
       "    }\n",
       "\n",
       "    .dataframe thead th {\n",
       "        text-align: right;\n",
       "    }\n",
       "</style>\n",
       "<table border=\"1\" class=\"dataframe\">\n",
       "  <thead>\n",
       "    <tr style=\"text-align: right;\">\n",
       "      <th></th>\n",
       "      <th>Average_Compensation</th>\n",
       "      <th>Median_Compensation</th>\n",
       "    </tr>\n",
       "    <tr>\n",
       "      <th>Country</th>\n",
       "      <th></th>\n",
       "      <th></th>\n",
       "    </tr>\n",
       "  </thead>\n",
       "  <tbody>\n",
       "    <tr>\n",
       "      <th>Afghanistan</th>\n",
       "      <td>665.000000</td>\n",
       "      <td>48.0</td>\n",
       "    </tr>\n",
       "    <tr>\n",
       "      <th>Albania</th>\n",
       "      <td>28008.600000</td>\n",
       "      <td>11844.0</td>\n",
       "    </tr>\n",
       "    <tr>\n",
       "      <th>Algeria</th>\n",
       "      <td>8336.333333</td>\n",
       "      <td>6586.0</td>\n",
       "    </tr>\n",
       "    <tr>\n",
       "      <th>Andorra</th>\n",
       "      <td>32127.000000</td>\n",
       "      <td>32127.0</td>\n",
       "    </tr>\n",
       "    <tr>\n",
       "      <th>Angola</th>\n",
       "      <td>662.000000</td>\n",
       "      <td>662.0</td>\n",
       "    </tr>\n",
       "    <tr>\n",
       "      <th>...</th>\n",
       "      <td>...</td>\n",
       "      <td>...</td>\n",
       "    </tr>\n",
       "    <tr>\n",
       "      <th>Venezuela, Bolivarian Republic of...</th>\n",
       "      <td>24973.529412</td>\n",
       "      <td>12000.0</td>\n",
       "    </tr>\n",
       "    <tr>\n",
       "      <th>Viet Nam</th>\n",
       "      <td>20191.870370</td>\n",
       "      <td>13401.0</td>\n",
       "    </tr>\n",
       "    <tr>\n",
       "      <th>Yemen</th>\n",
       "      <td>8373.000000</td>\n",
       "      <td>9000.0</td>\n",
       "    </tr>\n",
       "    <tr>\n",
       "      <th>Zambia</th>\n",
       "      <td>13051.000000</td>\n",
       "      <td>9687.0</td>\n",
       "    </tr>\n",
       "    <tr>\n",
       "      <th>Zimbabwe</th>\n",
       "      <td>5600.000000</td>\n",
       "      <td>6000.0</td>\n",
       "    </tr>\n",
       "  </tbody>\n",
       "</table>\n",
       "<p>173 rows × 2 columns</p>\n",
       "</div>"
      ],
      "text/plain": [
       "                                      Average_Compensation  \\\n",
       "Country                                                      \n",
       "Afghanistan                                     665.000000   \n",
       "Albania                                       28008.600000   \n",
       "Algeria                                        8336.333333   \n",
       "Andorra                                       32127.000000   \n",
       "Angola                                          662.000000   \n",
       "...                                                    ...   \n",
       "Venezuela, Bolivarian Republic of...          24973.529412   \n",
       "Viet Nam                                      20191.870370   \n",
       "Yemen                                          8373.000000   \n",
       "Zambia                                        13051.000000   \n",
       "Zimbabwe                                       5600.000000   \n",
       "\n",
       "                                      Median_Compensation  \n",
       "Country                                                    \n",
       "Afghanistan                                          48.0  \n",
       "Albania                                           11844.0  \n",
       "Algeria                                            6586.0  \n",
       "Andorra                                           32127.0  \n",
       "Angola                                              662.0  \n",
       "...                                                   ...  \n",
       "Venezuela, Bolivarian Republic of...              12000.0  \n",
       "Viet Nam                                          13401.0  \n",
       "Yemen                                              9000.0  \n",
       "Zambia                                             9687.0  \n",
       "Zimbabwe                                           6000.0  \n",
       "\n",
       "[173 rows x 2 columns]"
      ]
     },
     "execution_count": 77,
     "metadata": {},
     "output_type": "execute_result"
    }
   ],
   "source": [
    "python_users = survey1[survey1['LanguageHaveWorkedWith'].str.contains('Python', na=False)]\n",
    "grouped_data = python_users.groupby('Country')['ConvertedCompYearly']\n",
    "average_compensation = grouped_data.mean()\n",
    "median_compensation = grouped_data.median()\n",
    "result = pd.DataFrame({'Average_Compensation': average_compensation, 'Median_Compensation': median_compensation})\n",
    "result"
   ]
  },
  {
   "cell_type": "markdown",
   "id": "12a5233f",
   "metadata": {},
   "source": [
    "8. Які рівні освіти мають 5 респондентів з найбільшою компенсацією?"
   ]
  },
  {
   "cell_type": "code",
   "execution_count": 80,
   "id": "fc8ccfff",
   "metadata": {},
   "outputs": [
    {
     "data": {
      "text/plain": [
       "53268    Professional degree (JD, MD, Ph.D, Ed.D, etc.)\n",
       "77848    Professional degree (JD, MD, Ph.D, Ed.D, etc.)\n",
       "66223      Bachelor’s degree (B.A., B.S., B.Eng., etc.)\n",
       "28121                         Primary/elementary school\n",
       "19679    Professional degree (JD, MD, Ph.D, Ed.D, etc.)\n",
       "Name: EdLevel, dtype: object"
      ]
     },
     "execution_count": 80,
     "metadata": {},
     "output_type": "execute_result"
    }
   ],
   "source": [
    "sorted_data = survey1.sort_values(by='ConvertedCompYearly', ascending=False)\n",
    "top_5_respondents = sorted_data.head(5)\n",
    "education_levels_top_5 = top_5_respondents['EdLevel']\n",
    "education_levels_top_5"
   ]
  },
  {
   "cell_type": "code",
   "execution_count": null,
   "id": "6a87cca6",
   "metadata": {},
   "outputs": [],
   "source": []
  }
 ],
 "metadata": {
  "celltoolbar": "Raw Cell Format",
  "kernelspec": {
   "display_name": "Python 3 (ipykernel)",
   "language": "python",
   "name": "python3"
  },
  "language_info": {
   "codemirror_mode": {
    "name": "ipython",
    "version": 3
   },
   "file_extension": ".py",
   "mimetype": "text/x-python",
   "name": "python",
   "nbconvert_exporter": "python",
   "pygments_lexer": "ipython3",
   "version": "3.11.5"
  }
 },
 "nbformat": 4,
 "nbformat_minor": 5
}
